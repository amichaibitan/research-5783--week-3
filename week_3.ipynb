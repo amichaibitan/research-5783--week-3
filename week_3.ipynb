{
 "cells": [
  {
   "cell_type": "code",
   "execution_count": 264,
   "metadata": {},
   "outputs": [
    {
     "name": "stdout",
     "output_type": "stream",
     "text": [
      "['amichaib-itan@gmail.com', 'itay@gmail.come']\n",
      "['ami-@gmail.com', 'ami.@gmail.com', 'ami@gmail.c', 'ami@gasd', 'abc..def@mail.com', 'abc.def@mail#archive.com', 'uri%af@gamil']\n"
     ]
    }
   ],
   "source": [
    "#  q.1\n",
    "import io\n",
    "import re\n",
    "\n",
    "\n",
    "def find_email():\n",
    "    s = open(\"file.txt\",'r')\n",
    "    s1 = open(\"file.txt\",'r')\n",
    "    # take all the words with '@'\n",
    "    regex = \"\\S+@\\S+\"\n",
    "    # take the string with letters \".-_\" @ and letters and in the end must b dot and at least 1 leter\n",
    "    regex2 = \"([a-z0-9_.+-]+@[a-z0-9-_]+\\.[a-z0-9-._]+)\"\n",
    "    all = re.findall(regex, s.read())\n",
    "    all1 = re.findall(regex2, s1.read())\n",
    "    # a is valid email b now valid\n",
    "    a = []\n",
    "    b = []\n",
    "    # check if the string is not valid for example \"ami...bi@gmail.com\"\n",
    "    for i in all1:\n",
    "        x = i.split(\"@\")\n",
    "        if \"..\"  in i or \"._\" in i or \".-\" in i or \"-.\" in i or \"--\" in i or \"-_\" in i or \"-.\" in i or \"_.\" in i or \"_-\" in i or \"__\" in i or x[1][-1] == \".\" or x[1][-2] == \".\" or x[0][-1] == \".\" or x[0][-1] == \"_\" or x[0][-1] == \"-\":\n",
    "            b.append(i)\n",
    "        else:\n",
    "            a.append(i)\n",
    "    # take the original set with all the @ and delete the good emails\n",
    "    for i in all:\n",
    "        for j in a:           \n",
    "            if  i in j:\n",
    "                # print(\"trueee\")\n",
    "                all.remove(i)\n",
    "                continue\n",
    "    print(a)\n",
    "    print(all)\n",
    "    s.close()\n",
    "    s1.close()\n",
    "find_email()"
   ]
  },
  {
   "cell_type": "code",
   "execution_count": null,
   "metadata": {},
   "outputs": [],
   "source": [
    "# q.2 \n",
    "x : list = {}\n",
    "def lastcall(other_func):\n",
    "\n",
    "    \"\"\"\"\n",
    "    here are sum examples:\n",
    "    >>>s(\"aaa\")\n",
    "    aaaaaa\n",
    "    >>>s(\"aaa\")\n",
    "    I already told you the answer in aaaaaa\n",
    "    >>>f(3)\n",
    "    9\n",
    "    >>>f(5)\n",
    "    25\n",
    "    >>>f(3)\n",
    "     I already told you the answer in 9\n",
    "\n",
    "    \"\"\"\n",
    "    def last_func(*args , **kwargs):\n",
    "\n",
    "        for i in kwargs:\n",
    "            # print(\"xxxx\")\n",
    "            # print(x)\n",
    "            y =  x.__contains__(i)\n",
    "            if  y is True:\n",
    "                #  use x as \"memory\"\n",
    "                print(\"I already told you that the answer is  {}!\".format(x[i]))\n",
    "            else:\n",
    "                # save the new key and value\n",
    "                x[i] = other_func(i)\n",
    "                print(x[i])\n",
    "\n",
    "        for i in args:\n",
    "            # print(\"xxxx\")\n",
    "            # print(x)\n",
    "            y =  x.__contains__((i))\n",
    "            # print(y)\n",
    "            if  y is True:\n",
    "                #  use x as \"memory\"\n",
    "                print(\"I already told you that the answer is  {}!\".format(x[i]))\n",
    "            else:\n",
    "                # save the new key and value\n",
    "                x[i] = other_func(i)\n",
    "                print(x[i])\n",
    "\n",
    "       \n",
    "    return last_func\n",
    "# from the accerise \n",
    "@lastcall\n",
    "def f(x:int):\n",
    "    return x **2\n",
    "# double the str\n",
    "@lastcall\n",
    "def s(y: str):\n",
    "    return y+y\n",
    "if __name__ == '__main__':\n",
    "    f(2)\n",
    "    f(4)\n",
    "    f(2)\n",
    "    f(5)\n",
    "    s(\"acd\")\n",
    "    s(\"aaaaaad\")\n",
    "    s(\"acd\")\n"
   ]
  },
  {
   "cell_type": "code",
   "execution_count": 319,
   "metadata": {},
   "outputs": [
    {
     "ename": "TypeError",
     "evalue": "list indices must be integers or slices, not tuple",
     "output_type": "error",
     "traceback": [
      "\u001b[1;31m---------------------------------------------------------------------------\u001b[0m",
      "\u001b[1;31mTypeError\u001b[0m                                 Traceback (most recent call last)",
      "\u001b[1;32mc:\\Users\\USER\\Desktop\\works\\research-5783\\week_3.ipynb Cell 3\u001b[0m in \u001b[0;36m<module>\u001b[1;34m\u001b[0m\n\u001b[0;32m      <a href='vscode-notebook-cell:/c%3A/Users/USER/Desktop/works/research-5783/week_3.ipynb#W4sZmlsZQ%3D%3D?line=7'>8</a>\u001b[0m \u001b[39mif\u001b[39;00m \u001b[39m__name__\u001b[39m \u001b[39m==\u001b[39m \u001b[39m'\u001b[39m\u001b[39m__main__\u001b[39m\u001b[39m'\u001b[39m:\n\u001b[0;32m     <a href='vscode-notebook-cell:/c%3A/Users/USER/Desktop/works/research-5783/week_3.ipynb#W4sZmlsZQ%3D%3D?line=9'>10</a>\u001b[0m     mylist \u001b[39m=\u001b[39m List([[[\u001b[39m1\u001b[39m,\u001b[39m2\u001b[39m,\u001b[39m3\u001b[39m,\u001b[39m33\u001b[39m],[\u001b[39m4\u001b[39m,\u001b[39m5\u001b[39m,\u001b[39m6\u001b[39m,\u001b[39m66\u001b[39m]],[[\u001b[39m7\u001b[39m,\u001b[39m8\u001b[39m,\u001b[39m9\u001b[39m,\u001b[39m99\u001b[39m],[\u001b[39m10\u001b[39m,\u001b[39m11\u001b[39m,\u001b[39m12\u001b[39m,\u001b[39m122\u001b[39m]],[[\u001b[39m13\u001b[39m,\u001b[39m14\u001b[39m,\u001b[39m15\u001b[39m,\u001b[39m155\u001b[39m],[\u001b[39m16\u001b[39m,\u001b[39m17\u001b[39m,\u001b[39m18\u001b[39m,\u001b[39m188\u001b[39m]],])\n\u001b[1;32m---> <a href='vscode-notebook-cell:/c%3A/Users/USER/Desktop/works/research-5783/week_3.ipynb#W4sZmlsZQ%3D%3D?line=11'>12</a>\u001b[0m     \u001b[39mprint\u001b[39m(mylist[\u001b[39m0\u001b[39;49m,\u001b[39m1\u001b[39;49m,\u001b[39m3\u001b[39;49m])\n",
      "\u001b[1;31mTypeError\u001b[0m: list indices must be integers or slices, not tuple"
     ]
    }
   ],
   "source": [
    "# Q.3\n",
    "\n",
    "class List(list):\n",
    "    def __init__(self, x):\n",
    "        self.x: List = x\n",
    "\n",
    "\n",
    "if __name__ == '__main__':\n",
    "\n",
    "    mylist = List([[[1,2,3,33],[4,5,6,66]],[[7,8,9,99],[10,11,12,122]],[[13,14,15,155],[16,17,18,188]],])\n",
    "\n",
    "    print(mylist[0,1,3])   \n",
    "\n",
    "\n"
   ]
  },
  {
   "cell_type": "code",
   "execution_count": null,
   "metadata": {},
   "outputs": [],
   "source": []
  }
 ],
 "metadata": {
  "kernelspec": {
   "display_name": "Python 3",
   "language": "python",
   "name": "python3"
  },
  "language_info": {
   "codemirror_mode": {
    "name": "ipython",
    "version": 3
   },
   "file_extension": ".py",
   "mimetype": "text/x-python",
   "name": "python",
   "nbconvert_exporter": "python",
   "pygments_lexer": "ipython3",
   "version": "3.9.1"
  },
  "orig_nbformat": 4,
  "vscode": {
   "interpreter": {
    "hash": "1d5c1156327dacead463cc502c55ebae8ce9c8c01979cf154173ff808e75bf55"
   }
  }
 },
 "nbformat": 4,
 "nbformat_minor": 2
}
